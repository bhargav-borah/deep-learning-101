{
  "nbformat": 4,
  "nbformat_minor": 0,
  "metadata": {
    "colab": {
      "provenance": []
    },
    "kernelspec": {
      "name": "python3",
      "display_name": "Python 3"
    },
    "language_info": {
      "name": "python"
    }
  },
  "cells": [
    {
      "cell_type": "code",
      "execution_count": 9,
      "metadata": {
        "id": "6Mn8YRFJ0sRX"
      },
      "outputs": [],
      "source": [
        "import torch\n",
        "from torch import nn\n",
        "from torch.utils.data import DataLoader, TensorDataset\n",
        "\n",
        "import numpy as np\n",
        "\n",
        "from sklearn.datasets import load_iris\n",
        "from sklearn.model_selection import train_test_split"
      ]
    },
    {
      "cell_type": "code",
      "source": [
        "iris = load_iris()\n",
        "X = iris.data\n",
        "y = iris.target"
      ],
      "metadata": {
        "id": "9MVEOfgl1PBR"
      },
      "execution_count": 3,
      "outputs": []
    },
    {
      "cell_type": "code",
      "source": [
        "X[:5]"
      ],
      "metadata": {
        "colab": {
          "base_uri": "https://localhost:8080/"
        },
        "id": "0p2U3XVd1SyV",
        "outputId": "5ab7ad27-e313-4373-9926-1d5cb28242e7"
      },
      "execution_count": 6,
      "outputs": [
        {
          "output_type": "execute_result",
          "data": {
            "text/plain": [
              "array([[5.1, 3.5, 1.4, 0.2],\n",
              "       [4.9, 3. , 1.4, 0.2],\n",
              "       [4.7, 3.2, 1.3, 0.2],\n",
              "       [4.6, 3.1, 1.5, 0.2],\n",
              "       [5. , 3.6, 1.4, 0.2]])"
            ]
          },
          "metadata": {},
          "execution_count": 6
        }
      ]
    },
    {
      "cell_type": "code",
      "source": [
        "y[:5]"
      ],
      "metadata": {
        "colab": {
          "base_uri": "https://localhost:8080/"
        },
        "id": "N2ZWpz8K1XPd",
        "outputId": "75f436de-32f5-4f4d-a8f4-cb9b1f8b9c35"
      },
      "execution_count": 7,
      "outputs": [
        {
          "output_type": "execute_result",
          "data": {
            "text/plain": [
              "array([0, 0, 0, 0, 0])"
            ]
          },
          "metadata": {},
          "execution_count": 7
        }
      ]
    },
    {
      "cell_type": "code",
      "source": [
        "np.unique(y)"
      ],
      "metadata": {
        "colab": {
          "base_uri": "https://localhost:8080/"
        },
        "id": "MzhalIdG1X5a",
        "outputId": "a5d9f7e6-ae58-49bc-8209-5966c4dfca77"
      },
      "execution_count": 10,
      "outputs": [
        {
          "output_type": "execute_result",
          "data": {
            "text/plain": [
              "array([0, 1, 2])"
            ]
          },
          "metadata": {},
          "execution_count": 10
        }
      ]
    },
    {
      "cell_type": "code",
      "source": [
        "X.shape"
      ],
      "metadata": {
        "colab": {
          "base_uri": "https://localhost:8080/"
        },
        "id": "Wg86qHDg1eRt",
        "outputId": "e849961a-aba5-4771-e577-e339abe785c4"
      },
      "execution_count": 11,
      "outputs": [
        {
          "output_type": "execute_result",
          "data": {
            "text/plain": [
              "(150, 4)"
            ]
          },
          "metadata": {},
          "execution_count": 11
        }
      ]
    },
    {
      "cell_type": "code",
      "source": [
        "y.shape"
      ],
      "metadata": {
        "colab": {
          "base_uri": "https://localhost:8080/"
        },
        "id": "Kpcy9Qiv1lGf",
        "outputId": "847857fe-9810-49ea-a76e-59752100808b"
      },
      "execution_count": 12,
      "outputs": [
        {
          "output_type": "execute_result",
          "data": {
            "text/plain": [
              "(150,)"
            ]
          },
          "metadata": {},
          "execution_count": 12
        }
      ]
    },
    {
      "cell_type": "code",
      "source": [
        "X_train, X_test, y_train, y_test = train_test_split(X, y, test_size=0.2, random_state=1)"
      ],
      "metadata": {
        "id": "pKwC_33m1mQM"
      },
      "execution_count": 13,
      "outputs": []
    },
    {
      "cell_type": "code",
      "source": [
        "X_train_tensor = torch.FloatTensor(X_train)\n",
        "X_test_tensor = torch.FloatTensor(X_test)\n",
        "\n",
        "y_train_tensor = torch.LongTensor(y_train)\n",
        "y_test_tensor = torch.LongTensor(y_test)"
      ],
      "metadata": {
        "id": "V85DHG231uFC"
      },
      "execution_count": 14,
      "outputs": []
    },
    {
      "cell_type": "code",
      "source": [
        "X_train_tensor"
      ],
      "metadata": {
        "colab": {
          "base_uri": "https://localhost:8080/"
        },
        "id": "zrpfnUBn2DLB",
        "outputId": "e23b68bc-66dd-4271-87ac-d7fac363de4d"
      },
      "execution_count": 16,
      "outputs": [
        {
          "output_type": "execute_result",
          "data": {
            "text/plain": [
              "tensor([[6.1000, 3.0000, 4.6000, 1.4000],\n",
              "        [7.7000, 3.0000, 6.1000, 2.3000],\n",
              "        [5.6000, 2.5000, 3.9000, 1.1000],\n",
              "        [6.4000, 2.8000, 5.6000, 2.1000],\n",
              "        [5.8000, 2.8000, 5.1000, 2.4000],\n",
              "        [5.3000, 3.7000, 1.5000, 0.2000],\n",
              "        [5.5000, 2.3000, 4.0000, 1.3000],\n",
              "        [5.2000, 3.4000, 1.4000, 0.2000],\n",
              "        [6.5000, 2.8000, 4.6000, 1.5000],\n",
              "        [6.7000, 2.5000, 5.8000, 1.8000],\n",
              "        [6.8000, 3.0000, 5.5000, 2.1000],\n",
              "        [5.1000, 3.5000, 1.4000, 0.3000],\n",
              "        [6.0000, 2.2000, 5.0000, 1.5000],\n",
              "        [6.3000, 2.9000, 5.6000, 1.8000],\n",
              "        [6.6000, 2.9000, 4.6000, 1.3000],\n",
              "        [7.7000, 2.6000, 6.9000, 2.3000],\n",
              "        [5.7000, 3.8000, 1.7000, 0.3000],\n",
              "        [5.0000, 3.6000, 1.4000, 0.2000],\n",
              "        [4.8000, 3.0000, 1.4000, 0.3000],\n",
              "        [5.2000, 2.7000, 3.9000, 1.4000],\n",
              "        [5.1000, 3.4000, 1.5000, 0.2000],\n",
              "        [5.5000, 3.5000, 1.3000, 0.2000],\n",
              "        [7.7000, 3.8000, 6.7000, 2.2000],\n",
              "        [6.9000, 3.1000, 5.4000, 2.1000],\n",
              "        [7.3000, 2.9000, 6.3000, 1.8000],\n",
              "        [6.4000, 2.8000, 5.6000, 2.2000],\n",
              "        [6.2000, 2.8000, 4.8000, 1.8000],\n",
              "        [6.0000, 3.4000, 4.5000, 1.6000],\n",
              "        [7.7000, 2.8000, 6.7000, 2.0000],\n",
              "        [5.7000, 3.0000, 4.2000, 1.2000],\n",
              "        [4.8000, 3.4000, 1.6000, 0.2000],\n",
              "        [5.7000, 2.5000, 5.0000, 2.0000],\n",
              "        [6.3000, 2.7000, 4.9000, 1.8000],\n",
              "        [4.8000, 3.0000, 1.4000, 0.1000],\n",
              "        [4.7000, 3.2000, 1.3000, 0.2000],\n",
              "        [6.5000, 3.0000, 5.8000, 2.2000],\n",
              "        [4.6000, 3.4000, 1.4000, 0.3000],\n",
              "        [6.1000, 3.0000, 4.9000, 1.8000],\n",
              "        [6.5000, 3.2000, 5.1000, 2.0000],\n",
              "        [6.7000, 3.1000, 4.4000, 1.4000],\n",
              "        [5.7000, 2.8000, 4.5000, 1.3000],\n",
              "        [6.7000, 3.3000, 5.7000, 2.5000],\n",
              "        [6.0000, 3.0000, 4.8000, 1.8000],\n",
              "        [5.1000, 3.8000, 1.6000, 0.2000],\n",
              "        [6.0000, 2.2000, 4.0000, 1.0000],\n",
              "        [6.4000, 2.9000, 4.3000, 1.3000],\n",
              "        [6.5000, 3.0000, 5.5000, 1.8000],\n",
              "        [5.0000, 2.3000, 3.3000, 1.0000],\n",
              "        [6.3000, 3.3000, 6.0000, 2.5000],\n",
              "        [5.5000, 2.5000, 4.0000, 1.3000],\n",
              "        [5.4000, 3.7000, 1.5000, 0.2000],\n",
              "        [4.9000, 3.1000, 1.5000, 0.2000],\n",
              "        [5.2000, 4.1000, 1.5000, 0.1000],\n",
              "        [6.7000, 3.3000, 5.7000, 2.1000],\n",
              "        [4.4000, 3.0000, 1.3000, 0.2000],\n",
              "        [6.0000, 2.7000, 5.1000, 1.6000],\n",
              "        [6.4000, 2.7000, 5.3000, 1.9000],\n",
              "        [5.9000, 3.0000, 5.1000, 1.8000],\n",
              "        [5.2000, 3.5000, 1.5000, 0.2000],\n",
              "        [5.1000, 3.3000, 1.7000, 0.5000],\n",
              "        [5.8000, 2.7000, 4.1000, 1.0000],\n",
              "        [4.9000, 3.1000, 1.5000, 0.1000],\n",
              "        [7.4000, 2.8000, 6.1000, 1.9000],\n",
              "        [6.2000, 2.9000, 4.3000, 1.3000],\n",
              "        [7.6000, 3.0000, 6.6000, 2.1000],\n",
              "        [6.7000, 3.0000, 5.2000, 2.3000],\n",
              "        [6.3000, 2.3000, 4.4000, 1.3000],\n",
              "        [6.2000, 3.4000, 5.4000, 2.3000],\n",
              "        [7.2000, 3.6000, 6.1000, 2.5000],\n",
              "        [5.6000, 2.9000, 3.6000, 1.3000],\n",
              "        [5.7000, 4.4000, 1.5000, 0.4000],\n",
              "        [5.8000, 2.7000, 3.9000, 1.2000],\n",
              "        [4.5000, 2.3000, 1.3000, 0.3000],\n",
              "        [5.5000, 2.4000, 3.8000, 1.1000],\n",
              "        [6.9000, 3.1000, 4.9000, 1.5000],\n",
              "        [5.0000, 3.4000, 1.6000, 0.4000],\n",
              "        [6.8000, 2.8000, 4.8000, 1.4000],\n",
              "        [5.0000, 3.5000, 1.6000, 0.6000],\n",
              "        [4.8000, 3.4000, 1.9000, 0.2000],\n",
              "        [6.3000, 3.4000, 5.6000, 2.4000],\n",
              "        [5.6000, 2.8000, 4.9000, 2.0000],\n",
              "        [6.8000, 3.2000, 5.9000, 2.3000],\n",
              "        [5.0000, 3.3000, 1.4000, 0.2000],\n",
              "        [5.1000, 3.7000, 1.5000, 0.4000],\n",
              "        [5.9000, 3.2000, 4.8000, 1.8000],\n",
              "        [4.6000, 3.1000, 1.5000, 0.2000],\n",
              "        [5.8000, 2.7000, 5.1000, 1.9000],\n",
              "        [4.8000, 3.1000, 1.6000, 0.2000],\n",
              "        [6.5000, 3.0000, 5.2000, 2.0000],\n",
              "        [4.9000, 2.5000, 4.5000, 1.7000],\n",
              "        [4.6000, 3.2000, 1.4000, 0.2000],\n",
              "        [6.4000, 3.2000, 5.3000, 2.3000],\n",
              "        [4.3000, 3.0000, 1.1000, 0.1000],\n",
              "        [5.6000, 3.0000, 4.1000, 1.3000],\n",
              "        [4.4000, 2.9000, 1.4000, 0.2000],\n",
              "        [5.5000, 2.4000, 3.7000, 1.0000],\n",
              "        [5.0000, 2.0000, 3.5000, 1.0000],\n",
              "        [5.1000, 3.5000, 1.4000, 0.2000],\n",
              "        [4.9000, 3.0000, 1.4000, 0.2000],\n",
              "        [4.9000, 2.4000, 3.3000, 1.0000],\n",
              "        [4.6000, 3.6000, 1.0000, 0.2000],\n",
              "        [5.9000, 3.0000, 4.2000, 1.5000],\n",
              "        [6.1000, 2.9000, 4.7000, 1.4000],\n",
              "        [5.0000, 3.4000, 1.5000, 0.2000],\n",
              "        [6.7000, 3.1000, 4.7000, 1.5000],\n",
              "        [5.7000, 2.9000, 4.2000, 1.3000],\n",
              "        [6.2000, 2.2000, 4.5000, 1.5000],\n",
              "        [7.0000, 3.2000, 4.7000, 1.4000],\n",
              "        [5.8000, 2.7000, 5.1000, 1.9000],\n",
              "        [5.4000, 3.4000, 1.7000, 0.2000],\n",
              "        [5.0000, 3.0000, 1.6000, 0.2000],\n",
              "        [6.1000, 2.6000, 5.6000, 1.4000],\n",
              "        [6.1000, 2.8000, 4.0000, 1.3000],\n",
              "        [7.2000, 3.0000, 5.8000, 1.6000],\n",
              "        [5.7000, 2.6000, 3.5000, 1.0000],\n",
              "        [6.3000, 2.8000, 5.1000, 1.5000],\n",
              "        [6.4000, 3.1000, 5.5000, 1.8000],\n",
              "        [6.3000, 2.5000, 4.9000, 1.5000],\n",
              "        [6.7000, 3.1000, 5.6000, 2.4000],\n",
              "        [4.9000, 3.6000, 1.4000, 0.1000]])"
            ]
          },
          "metadata": {},
          "execution_count": 16
        }
      ]
    },
    {
      "cell_type": "code",
      "source": [
        "X_train[0], X_train_tensor[0]"
      ],
      "metadata": {
        "colab": {
          "base_uri": "https://localhost:8080/"
        },
        "id": "6uq9eKLN2Et-",
        "outputId": "65b9c240-4ed8-4468-9787-bca53df30ba1"
      },
      "execution_count": 17,
      "outputs": [
        {
          "output_type": "execute_result",
          "data": {
            "text/plain": [
              "(array([6.1, 3. , 4.6, 1.4]), tensor([6.1000, 3.0000, 4.6000, 1.4000]))"
            ]
          },
          "metadata": {},
          "execution_count": 17
        }
      ]
    },
    {
      "cell_type": "code",
      "source": [
        "type(X_train), type(X_test), type(X_train_tensor), type(X_test_tensor)"
      ],
      "metadata": {
        "colab": {
          "base_uri": "https://localhost:8080/"
        },
        "id": "RA0oe3hS2mzr",
        "outputId": "4fa2038e-8bb7-4452-ab64-26bc7fe38945"
      },
      "execution_count": 19,
      "outputs": [
        {
          "output_type": "execute_result",
          "data": {
            "text/plain": [
              "(numpy.ndarray, numpy.ndarray, torch.Tensor, torch.Tensor)"
            ]
          },
          "metadata": {},
          "execution_count": 19
        }
      ]
    },
    {
      "cell_type": "code",
      "source": [
        "batch_size = 5\n",
        "\n",
        "train_dataset = TensorDataset(X_train_tensor, y_train_tensor)\n",
        "test_dataset = TensorDataset(X_test_tensor, y_test_tensor)\n",
        "\n",
        "train_dataloader = DataLoader(dataset=train_dataset,\n",
        "                              batch_size=batch_size,\n",
        "                              shuffle=True)\n",
        "test_dataloader = DataLoader(dataset=test_dataset,\n",
        "                             batch_size=batch_size,\n",
        "                             shuffle=False)"
      ],
      "metadata": {
        "id": "BkYAADDt2vnv"
      },
      "execution_count": 20,
      "outputs": []
    },
    {
      "cell_type": "code",
      "source": [
        "train_dataset, test_dataset"
      ],
      "metadata": {
        "colab": {
          "base_uri": "https://localhost:8080/"
        },
        "id": "3t_pS6E93o8R",
        "outputId": "64ed0454-1cd5-47b5-8c20-0c540f410b05"
      },
      "execution_count": 21,
      "outputs": [
        {
          "output_type": "execute_result",
          "data": {
            "text/plain": [
              "(<torch.utils.data.dataset.TensorDataset at 0x7bad1599cbe0>,\n",
              " <torch.utils.data.dataset.TensorDataset at 0x7bad1599db70>)"
            ]
          },
          "metadata": {},
          "execution_count": 21
        }
      ]
    },
    {
      "cell_type": "code",
      "source": [
        "train_dataloader, test_dataloader"
      ],
      "metadata": {
        "colab": {
          "base_uri": "https://localhost:8080/"
        },
        "id": "cMe-zXdW3q-C",
        "outputId": "88d6208a-acae-4aab-b576-4049f9053270"
      },
      "execution_count": 22,
      "outputs": [
        {
          "output_type": "execute_result",
          "data": {
            "text/plain": [
              "(<torch.utils.data.dataloader.DataLoader at 0x7bad1599f700>,\n",
              " <torch.utils.data.dataloader.DataLoader at 0x7bad1599e5f0>)"
            ]
          },
          "metadata": {},
          "execution_count": 22
        }
      ]
    },
    {
      "cell_type": "code",
      "source": [
        "class NeuralNetwork(nn.Module):\n",
        "  def __init__(self, input_size, hidden_size, num_classes):\n",
        "    super(NeuralNetwork, self).__init__()\n",
        "    self.fc1 = nn.Linear(input_size, hidden_size)\n",
        "    self.relu = nn.ReLU()\n",
        "    self.fc2 = nn.Linear(hidden_size, num_classes)\n",
        "\n",
        "  def forward(self, x):\n",
        "    return self.fc2(self.relu(self.fc1(x)))"
      ],
      "metadata": {
        "id": "U0Bqqy6h3s7z"
      },
      "execution_count": 23,
      "outputs": []
    },
    {
      "cell_type": "code",
      "source": [
        "# Hyperparameters\n",
        "input_size = 4\n",
        "hidden_size = 8\n",
        "num_classes = 3\n",
        "learning_rate = 1e-3\n",
        "num_epochs = 1000\n",
        "\n",
        "# Create the neural network\n",
        "model = NeuralNetwork(input_size=input_size,\n",
        "                      hidden_size=hidden_size,\n",
        "                      num_classes=num_classes)\n",
        "model"
      ],
      "metadata": {
        "colab": {
          "base_uri": "https://localhost:8080/"
        },
        "id": "qUwxoFcn4ZUv",
        "outputId": "85c2428b-e587-4fe5-a314-b86d409dcb8f"
      },
      "execution_count": 31,
      "outputs": [
        {
          "output_type": "execute_result",
          "data": {
            "text/plain": [
              "NeuralNetwork(\n",
              "  (fc1): Linear(in_features=4, out_features=8, bias=True)\n",
              "  (relu): ReLU()\n",
              "  (fc2): Linear(in_features=8, out_features=3, bias=True)\n",
              ")"
            ]
          },
          "metadata": {},
          "execution_count": 31
        }
      ]
    },
    {
      "cell_type": "code",
      "source": [
        "# Loss function\n",
        "loss_fn = nn.CrossEntropyLoss()\n",
        "loss_fn"
      ],
      "metadata": {
        "colab": {
          "base_uri": "https://localhost:8080/"
        },
        "id": "PgjEUE8s4xHT",
        "outputId": "ce6fdf7d-8eb0-4410-e612-4ffd99441689"
      },
      "execution_count": 32,
      "outputs": [
        {
          "output_type": "execute_result",
          "data": {
            "text/plain": [
              "CrossEntropyLoss()"
            ]
          },
          "metadata": {},
          "execution_count": 32
        }
      ]
    },
    {
      "cell_type": "code",
      "source": [
        "# Optimizer\n",
        "optimizer = torch.optim.Adam(model.parameters(),\n",
        "                             lr=learning_rate)\n",
        "optimizer"
      ],
      "metadata": {
        "colab": {
          "base_uri": "https://localhost:8080/"
        },
        "id": "h1h6ZyQW43gQ",
        "outputId": "a1a7ccfc-6735-4b77-e34f-8fd3dbe5956d"
      },
      "execution_count": 33,
      "outputs": [
        {
          "output_type": "execute_result",
          "data": {
            "text/plain": [
              "Adam (\n",
              "Parameter Group 0\n",
              "    amsgrad: False\n",
              "    betas: (0.9, 0.999)\n",
              "    capturable: False\n",
              "    differentiable: False\n",
              "    eps: 1e-08\n",
              "    foreach: None\n",
              "    fused: None\n",
              "    lr: 0.001\n",
              "    maximize: False\n",
              "    weight_decay: 0\n",
              ")"
            ]
          },
          "metadata": {},
          "execution_count": 33
        }
      ]
    },
    {
      "cell_type": "code",
      "source": [
        "# Training the model\n",
        "for epoch in range(num_epochs):\n",
        "  for X, y in train_dataloader:\n",
        "    y_preds = model(X)\n",
        "    loss = loss_fn(y_preds, y)\n",
        "\n",
        "    optimizer.zero_grad()\n",
        "    loss.backward()\n",
        "    optimizer.step()\n",
        "\n",
        "  if epoch % 100 == 0:\n",
        "    print(f'Epoch: {epoch + 1}/{num_epochs}, Loss: {loss.item():.4f}')"
      ],
      "metadata": {
        "colab": {
          "base_uri": "https://localhost:8080/"
        },
        "id": "Dwo2eLbA5FyY",
        "outputId": "dcca0110-1f7c-4843-d6a8-15028563bb30"
      },
      "execution_count": 34,
      "outputs": [
        {
          "output_type": "stream",
          "name": "stdout",
          "text": [
            "Epoch: 1/1000, Loss: 0.8712\n",
            "Epoch: 101/1000, Loss: 0.0475\n",
            "Epoch: 201/1000, Loss: 0.0143\n",
            "Epoch: 301/1000, Loss: 0.0183\n",
            "Epoch: 401/1000, Loss: 0.0662\n",
            "Epoch: 501/1000, Loss: 0.1224\n",
            "Epoch: 601/1000, Loss: 0.4856\n",
            "Epoch: 701/1000, Loss: 0.0146\n",
            "Epoch: 801/1000, Loss: 0.0015\n",
            "Epoch: 901/1000, Loss: 0.5034\n"
          ]
        }
      ]
    },
    {
      "cell_type": "code",
      "source": [
        "model.eval()\n",
        "with torch.inference_mode():\n",
        "  correct = 0\n",
        "  total = 0\n",
        "  for X, y in test_dataloader:\n",
        "    y_preds = model(X)\n",
        "    _, predicted = torch.max(y_preds, 1)\n",
        "    total += y.size(0)\n",
        "    correct += (y == predicted).sum().item()\n",
        "\n",
        "  accuracy = correct / total\n",
        "  print(f'Test Accuracy: {accuracy:.2f}')"
      ],
      "metadata": {
        "colab": {
          "base_uri": "https://localhost:8080/"
        },
        "id": "J7txsQ7f59bx",
        "outputId": "4404e4ee-2a2c-4a5e-cb4f-df33fa1efbf4"
      },
      "execution_count": 35,
      "outputs": [
        {
          "output_type": "stream",
          "name": "stdout",
          "text": [
            "Test Accuracy: 1.00\n"
          ]
        }
      ]
    },
    {
      "cell_type": "code",
      "source": [],
      "metadata": {
        "id": "WUDhtoU56B0f"
      },
      "execution_count": null,
      "outputs": []
    }
  ]
}